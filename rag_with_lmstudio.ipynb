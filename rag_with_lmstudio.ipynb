{
 "cells": [
  {
   "cell_type": "code",
   "execution_count": 33,
   "metadata": {},
   "outputs": [
    {
     "name": "stdout",
     "output_type": "stream",
     "text": [
      "Requirement already satisfied: openai in c:\\users\\arthu\\appdata\\local\\programs\\python\\python39\\lib\\site-packages (1.33.0)\n",
      "Requirement already satisfied: pandas in c:\\users\\arthu\\appdata\\local\\programs\\python\\python39\\lib\\site-packages (1.5.2)\n",
      "Requirement already satisfied: anyio<5,>=3.5.0 in c:\\users\\arthu\\appdata\\local\\programs\\python\\python39\\lib\\site-packages (from openai) (4.3.0)\n",
      "Requirement already satisfied: distro<2,>=1.7.0 in c:\\users\\arthu\\appdata\\local\\programs\\python\\python39\\lib\\site-packages (from openai) (1.9.0)\n",
      "Requirement already satisfied: httpx<1,>=0.23.0 in c:\\users\\arthu\\appdata\\local\\programs\\python\\python39\\lib\\site-packages (from openai) (0.27.0)\n",
      "Requirement already satisfied: pydantic<3,>=1.9.0 in c:\\users\\arthu\\appdata\\local\\programs\\python\\python39\\lib\\site-packages (from openai) (1.10.8)\n",
      "Requirement already satisfied: sniffio in c:\\users\\arthu\\appdata\\local\\programs\\python\\python39\\lib\\site-packages (from openai) (1.3.1)\n",
      "Requirement already satisfied: tqdm>4 in c:\\users\\arthu\\appdata\\local\\programs\\python\\python39\\lib\\site-packages (from openai) (4.66.4)\n",
      "Requirement already satisfied: typing-extensions<5,>=4.7 in c:\\users\\arthu\\appdata\\local\\programs\\python\\python39\\lib\\site-packages (from openai) (4.12.2)\n",
      "Requirement already satisfied: python-dateutil>=2.8.1 in c:\\users\\arthu\\appdata\\local\\programs\\python\\python39\\lib\\site-packages (from pandas) (2.9.0.post0)\n",
      "Requirement already satisfied: pytz>=2020.1 in c:\\users\\arthu\\appdata\\local\\programs\\python\\python39\\lib\\site-packages (from pandas) (2022.7.1)\n",
      "Requirement already satisfied: numpy>=1.20.3 in c:\\users\\arthu\\appdata\\local\\programs\\python\\python39\\lib\\site-packages (from pandas) (1.25.2)\n",
      "Requirement already satisfied: idna>=2.8 in c:\\users\\arthu\\appdata\\local\\programs\\python\\python39\\lib\\site-packages (from anyio<5,>=3.5.0->openai) (3.4)\n",
      "Requirement already satisfied: exceptiongroup>=1.0.2 in c:\\users\\arthu\\appdata\\local\\programs\\python\\python39\\lib\\site-packages (from anyio<5,>=3.5.0->openai) (1.2.1)\n",
      "Requirement already satisfied: certifi in c:\\users\\arthu\\appdata\\local\\programs\\python\\python39\\lib\\site-packages (from httpx<1,>=0.23.0->openai) (2024.6.2)\n",
      "Requirement already satisfied: httpcore==1.* in c:\\users\\arthu\\appdata\\local\\programs\\python\\python39\\lib\\site-packages (from httpx<1,>=0.23.0->openai) (1.0.5)\n",
      "Requirement already satisfied: h11<0.15,>=0.13 in c:\\users\\arthu\\appdata\\local\\programs\\python\\python39\\lib\\site-packages (from httpcore==1.*->httpx<1,>=0.23.0->openai) (0.14.0)\n",
      "Requirement already satisfied: six>=1.5 in c:\\users\\arthu\\appdata\\roaming\\python\\python39\\site-packages (from python-dateutil>=2.8.1->pandas) (1.16.0)\n",
      "Requirement already satisfied: colorama in c:\\users\\arthu\\appdata\\roaming\\python\\python39\\site-packages (from tqdm>4->openai) (0.4.6)\n",
      "Query: What is the meaning of life?\n",
      "Answer: The first steps consists in defining the objective function you want to optimize. This is the most important step: you must define an experimentation which is reproducible and which will produce results that can be measured to approximate the function you want to optimize.\n"
     ]
    }
   ],
   "source": [
    "# Install necessary libraries\n",
    "!pip install openai pandas\n",
    "\n",
    "# Import necessary libraries\n",
    "from openai import OpenAI\n",
    "import pandas as pd\n",
    "\n",
    "# Initialize OpenAI client\n",
    "client = OpenAI(base_url=\"http://localhost:1234/v1\", api_key=\"lm-studio\")\n",
    "\n",
    "# Function to get embeddings\n",
    "def get_embedding(text, model=\"nomic-ai/nomic-embed-text-v1.5-GGUF\"):\n",
    "    text = text.replace(\"\\n\", \" \")\n",
    "    return client.embeddings.create(input=[text], model=model).data[0].embedding\n",
    "\n",
    "# Load the Q&A data\n",
    "with open('Q&A_format.md', 'r', encoding='utf-8') as file:\n",
    "    data = file.read()\n",
    "\n",
    "# Manually split the document based on headers\n",
    "questions_answers = data.split(\"Question: \")\n",
    "\n",
    "# Process the split data into a structured format\n",
    "qa_pairs = []\n",
    "for qa in questions_answers[1:]:  # Skipping the first empty split\n",
    "    parts = qa.split(\"Answer: \")\n",
    "    question = parts[0].strip()\n",
    "    answer = parts[1].strip() if len(parts) > 1 else \"\"\n",
    "    qa_pairs.append({\"question\": question, \"answer\": answer})\n",
    "\n",
    "# Convert to DataFrame\n",
    "df = pd.DataFrame(qa_pairs)\n",
    "\n",
    "# Get embeddings for questions\n",
    "df['question_embedding'] = df['question'].apply(lambda x: get_embedding(x))\n",
    "\n",
    "# Save the embeddings and QA pairs for future use\n",
    "df.to_csv('qa_embeddings.csv', index=False)\n",
    "\n",
    "import numpy as np\n",
    "from scipy.spatial.distance import cosine\n",
    "\n",
    "# Function to find the most similar question\n",
    "def find_most_similar_question(query, df, model=\"nomic-ai/nomic-embed-text-v1.5-GGUF\"):\n",
    "    query_embedding = get_embedding(query, model)\n",
    "    df['similarity'] = df['question_embedding'].apply(lambda x: 1 - cosine(query_embedding, x))\n",
    "    most_similar_idx = df['similarity'].idxmax()\n",
    "    return df.iloc[most_similar_idx]\n",
    "\n",
    "# Function to detect if the query is a coding request\n",
    "def is_coding_request(query):\n",
    "    coding_keywords = ['code', 'script', 'program', 'function', 'class']\n",
    "    return any(keyword in query.lower() for keyword in coding_keywords)\n",
    "\n",
    "# Function to generate code using the model\n",
    "def generate_code(prompt, model=\"nomic-ai/nomic-embed-text-v1.5-GGUF\"):\n",
    "    response = client.completions.create(\n",
    "        model=model,\n",
    "        prompt=prompt,\n",
    "        max_tokens=200,\n",
    "        temperature=0.5\n",
    "    )\n",
    "    return response.choices[0].text.strip()\n",
    "\n",
    "# Function to get answer based on query\n",
    "def get_answer(query, df):\n",
    "    if is_coding_request(query):\n",
    "        return generate_code(query)\n",
    "    else:\n",
    "        most_similar_qa = find_most_similar_question(query, df)\n",
    "        return most_similar_qa['answer']\n",
    "\n",
    "# Example usage\n",
    "query = \"What is the meaning of life?\"\n",
    "answer = get_answer(query, df)\n",
    "print(f\"Query: {query}\\nAnswer: {answer}\")"
   ]
  },
  {
   "cell_type": "code",
   "execution_count": 34,
   "metadata": {},
   "outputs": [
    {
     "name": "stdout",
     "output_type": "stream",
     "text": [
      "Query: What is classification?\n",
      "Answer: Classification is the process of sorting objects or concepts into categories based on common characteristics, attributes, or features. In other words, it is the act of grouping similar things together and distinguishing them from other things that are not similar.\n",
      "\n",
      "In the context of data analysis, classification is a type of supervised learning algorithm used to predict the class label (or category) of new, unseen data based on its features. The goal of classification is to create a model that can accurately assign labels or categories to data points.\n",
      "\n",
      "Types of Classification:\n",
      "\n",
      "There are several types of classification techniques, including:\n",
      "\n",
      "1. **Binary classification**: This type of classification involves predicting whether an object belongs to one of two classes (e.g., spam vs. non-spam emails).\n",
      "2. **Multi-class classification**: This type of classification involves predicting which class an object belongs to among multiple classes (e.g., different species of flowers).\n",
      "3. **Multiclass classification with imbalance**: This type of classification involves dealing with imbalanced datasets, where\n"
     ]
    }
   ],
   "source": [
    "# Example usage\n",
    "query = \"What is classification?\"\n",
    "answer = get_answer(query, df)\n",
    "print(f\"Query: {query}\\nAnswer: {answer}\")"
   ]
  },
  {
   "cell_type": "code",
   "execution_count": 35,
   "metadata": {},
   "outputs": [
    {
     "name": "stdout",
     "output_type": "stream",
     "text": [
      "Query: Canard?\n",
      "Answer: It's a method for demonstrating graphically the locality, spread and skewness groups of numerical data through their quartiles. In addition to the box, there can be lines (which are called whiskers) extending from the box indicating variability outside the upper and lower quartiles, thus, the plot is also called the box-and-whisker plot.\n"
     ]
    }
   ],
   "source": [
    "query = \"Canard?\"\n",
    "answer = get_answer(query, df)\n",
    "print(f\"Query: {query}\\nAnswer: {answer}\")"
   ]
  },
  {
   "cell_type": "code",
   "execution_count": 42,
   "metadata": {},
   "outputs": [
    {
     "name": "stdout",
     "output_type": "stream",
     "text": [
      "Query: Code me a simple reservoir\n",
      "Answer: simulation model in Python with the following features:\n",
      "    1. Reservoir properties: permeability, porosity, thickness\n",
      "    2. Well data: well name, x and y coordinates, depth, production rate\n",
      "    3. Grid dimensions: number of rows, columns, and layers\n",
      "    4. Time step and total simulation time\n",
      "\n",
      "Here is a simple implementation:\n",
      "\n",
      "```Python\n",
      "class ReservoirSimulation:\n",
      "    def __init__(self):\n",
      "        self.reservoir_properties = {}\n",
      "        self.well_data = []\n",
      "        self.grid_dimensions = {}\n",
      "        self.time_step = None\n",
      "        self.total_simulation_time = None\n",
      "\n",
      "    def set_reservoir_properties(self, permeability, porosity, thickness):\n",
      "        self.reservoir_properties['permeability'] = permeability\n",
      "        self.reservoir_properties['porosity'] = porosity\n",
      "        self.reservoir_properties['thickness'] = thickness\n",
      "\n",
      "    def add_well(self, well_name, x, y, depth, production\n"
     ]
    }
   ],
   "source": [
    "query = \"Code me a simple reservoir\"\n",
    "answer = get_answer(query, df)\n",
    "print(f\"Query: {query}\\nAnswer: {answer}\")"
   ]
  }
 ],
 "metadata": {
  "kernelspec": {
   "display_name": "Python 3",
   "language": "python",
   "name": "python3"
  },
  "language_info": {
   "codemirror_mode": {
    "name": "ipython",
    "version": 3
   },
   "file_extension": ".py",
   "mimetype": "text/x-python",
   "name": "python",
   "nbconvert_exporter": "python",
   "pygments_lexer": "ipython3",
   "version": "3.9.1"
  }
 },
 "nbformat": 4,
 "nbformat_minor": 2
}
