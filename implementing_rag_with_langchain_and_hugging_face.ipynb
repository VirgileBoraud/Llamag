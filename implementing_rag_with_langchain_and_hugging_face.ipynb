{
 "cells": [
  {
   "cell_type": "code",
   "execution_count": 11,
   "metadata": {},
   "outputs": [],
   "source": [
    "!pip install -q langchain\n",
    "!pip install -q torch\n",
    "!pip install -q transformers\n",
    "!pip install -q sentence-transformers\n",
    "!pip install -q datasets\n",
    "!pip install -q faiss-cpu"
   ]
  },
  {
   "cell_type": "code",
   "execution_count": 28,
   "metadata": {},
   "outputs": [],
   "source": [
    "from langchain.document_loaders import HuggingFaceDatasetLoader\n",
    "from langchain.text_splitter import RecursiveCharacterTextSplitter\n",
    "from langchain.embeddings import HuggingFaceEmbeddings\n",
    "from langchain.vectorstores import FAISS\n",
    "from transformers import AutoTokenizer, AutoModelForQuestionAnswering\n",
    "from transformers import AutoTokenizer, pipeline\n",
    "from langchain import HuggingFacePipeline\n",
    "from langchain.chains import RetrievalQA\n",
    "from langchain_community.document_loaders import TextLoader\n",
    "from langchain_openai import OpenAIEmbeddings\n",
    "from langchain_text_splitters import CharacterTextSplitter"
   ]
  },
  {
   "cell_type": "code",
   "execution_count": 13,
   "metadata": {},
   "outputs": [
    {
     "data": {
      "text/plain": [
       "'Question: What is a Reservoir Computing architecture?\\nAnswer: A Reservoir Computing (RC) architectur'"
      ]
     },
     "execution_count": 13,
     "metadata": {},
     "output_type": "execute_result"
    }
   ],
   "source": [
    "# Create a loader instance\n",
    "loader = HuggingFaceDatasetLoader('Q&A_format.md')\n",
    "\n",
    "# Load the data\n",
    "with open('Q&A_format.md', 'r', encoding='utf-8') as file:\n",
    "    data = file.read()\n",
    "\n",
    "# Display the first 100 entries\n",
    "data[:100]"
   ]
  },
  {
   "cell_type": "code",
   "execution_count": 30,
   "metadata": {},
   "outputs": [
    {
     "ename": "AttributeError",
     "evalue": "'str' object has no attribute 'page_content'",
     "output_type": "error",
     "traceback": [
      "\u001b[1;31m---------------------------------------------------------------------------\u001b[0m",
      "\u001b[1;31mAttributeError\u001b[0m                            Traceback (most recent call last)",
      "Cell \u001b[1;32mIn[30], line 9\u001b[0m\n\u001b[0;32m      1\u001b[0m \u001b[38;5;66;03m# Create an instance of the RecursiveCharacterTextSplitter class with specific parameters.\u001b[39;00m\n\u001b[0;32m      2\u001b[0m \u001b[38;5;66;03m# It splits text into chunks of 1000 characters each with a 150-character overlap.\u001b[39;00m\n\u001b[0;32m      3\u001b[0m \u001b[38;5;66;03m#text_splitter = RecursiveCharacterTextSplitter(chunk_size=1000, chunk_overlap=150)\u001b[39;00m\n\u001b[0;32m      4\u001b[0m \n\u001b[0;32m      5\u001b[0m \u001b[38;5;66;03m# 'data' holds the text you want to split, split the text into documents using the text splitter.\u001b[39;00m\n\u001b[0;32m      6\u001b[0m \u001b[38;5;66;03m#docs = text_splitter.split_documents(data)\u001b[39;00m\n\u001b[0;32m      8\u001b[0m text_splitter \u001b[38;5;241m=\u001b[39m CharacterTextSplitter(chunk_size\u001b[38;5;241m=\u001b[39m\u001b[38;5;241m1000\u001b[39m, chunk_overlap\u001b[38;5;241m=\u001b[39m\u001b[38;5;241m0\u001b[39m)\n\u001b[1;32m----> 9\u001b[0m documents \u001b[38;5;241m=\u001b[39m \u001b[43mtext_splitter\u001b[49m\u001b[38;5;241;43m.\u001b[39;49m\u001b[43msplit_documents\u001b[49m\u001b[43m(\u001b[49m\u001b[43mdata\u001b[49m\u001b[43m)\u001b[49m\n",
      "File \u001b[1;32mc:\\Users\\arthu\\AppData\\Local\\Programs\\Python\\Python39\\lib\\site-packages\\langchain_text_splitters\\base.py:94\u001b[0m, in \u001b[0;36mTextSplitter.split_documents\u001b[1;34m(self, documents)\u001b[0m\n\u001b[0;32m     92\u001b[0m texts, metadatas \u001b[38;5;241m=\u001b[39m [], []\n\u001b[0;32m     93\u001b[0m \u001b[38;5;28;01mfor\u001b[39;00m doc \u001b[38;5;129;01min\u001b[39;00m documents:\n\u001b[1;32m---> 94\u001b[0m     texts\u001b[38;5;241m.\u001b[39mappend(\u001b[43mdoc\u001b[49m\u001b[38;5;241;43m.\u001b[39;49m\u001b[43mpage_content\u001b[49m)\n\u001b[0;32m     95\u001b[0m     metadatas\u001b[38;5;241m.\u001b[39mappend(doc\u001b[38;5;241m.\u001b[39mmetadata)\n\u001b[0;32m     96\u001b[0m \u001b[38;5;28;01mreturn\u001b[39;00m \u001b[38;5;28mself\u001b[39m\u001b[38;5;241m.\u001b[39mcreate_documents(texts, metadatas\u001b[38;5;241m=\u001b[39mmetadatas)\n",
      "\u001b[1;31mAttributeError\u001b[0m: 'str' object has no attribute 'page_content'"
     ]
    }
   ],
   "source": [
    "# Create an instance of the RecursiveCharacterTextSplitter class with specific parameters.\n",
    "# It splits text into chunks of 1000 characters each with a 150-character overlap.\n",
    "#text_splitter = RecursiveCharacterTextSplitter(chunk_size=1000, chunk_overlap=150)\n",
    "\n",
    "# 'data' holds the text you want to split, split the text into documents using the text splitter.\n",
    "#docs = text_splitter.split_documents(data)\n",
    "\n",
    "text_splitter = CharacterTextSplitter(chunk_size=1000, chunk_overlap=0)\n",
    "documents = text_splitter.split_documents(data)"
   ]
  },
  {
   "cell_type": "code",
   "execution_count": 21,
   "metadata": {},
   "outputs": [
    {
     "name": "stderr",
     "output_type": "stream",
     "text": [
      "c:\\Users\\arthu\\AppData\\Local\\Programs\\Python\\Python39\\lib\\site-packages\\langchain_core\\_api\\deprecation.py:139: LangChainDeprecationWarning: The class `HuggingFaceEmbeddings` was deprecated in LangChain 0.2.2 and will be removed in 0.3.0. An updated version of the class exists in the langchain-huggingface package and should be used instead. To use it run `pip install -U langchain-huggingface` and import as `from langchain_huggingface import HuggingFaceEmbeddings`.\n",
      "  warn_deprecated(\n"
     ]
    },
    {
     "data": {
      "application/vnd.jupyter.widget-view+json": {
       "model_id": "e8be1714959f4b18b531b246d4c90bf0",
       "version_major": 2,
       "version_minor": 0
      },
      "text/plain": [
       "modules.json:   0%|          | 0.00/349 [00:00<?, ?B/s]"
      ]
     },
     "metadata": {},
     "output_type": "display_data"
    },
    {
     "name": "stderr",
     "output_type": "stream",
     "text": [
      "c:\\Users\\arthu\\AppData\\Local\\Programs\\Python\\Python39\\lib\\site-packages\\huggingface_hub\\file_download.py:157: UserWarning: `huggingface_hub` cache-system uses symlinks by default to efficiently store duplicated files but your machine does not support them in C:\\Users\\arthu\\.cache\\huggingface\\hub\\models--sentence-transformers--all-MiniLM-l6-v2. Caching files will still work but in a degraded version that might require more space on your disk. This warning can be disabled by setting the `HF_HUB_DISABLE_SYMLINKS_WARNING` environment variable. For more details, see https://huggingface.co/docs/huggingface_hub/how-to-cache#limitations.\n",
      "To support symlinks on Windows, you either need to activate Developer Mode or to run Python as an administrator. In order to see activate developer mode, see this article: https://docs.microsoft.com/en-us/windows/apps/get-started/enable-your-device-for-development\n",
      "  warnings.warn(message)\n"
     ]
    },
    {
     "data": {
      "application/vnd.jupyter.widget-view+json": {
       "model_id": "52337871f8ed44a69a418f7a1554c176",
       "version_major": 2,
       "version_minor": 0
      },
      "text/plain": [
       "config_sentence_transformers.json:   0%|          | 0.00/116 [00:00<?, ?B/s]"
      ]
     },
     "metadata": {},
     "output_type": "display_data"
    },
    {
     "data": {
      "application/vnd.jupyter.widget-view+json": {
       "model_id": "3d265ecb5c064dcbb42cee65f522e5f7",
       "version_major": 2,
       "version_minor": 0
      },
      "text/plain": [
       "README.md:   0%|          | 0.00/10.7k [00:00<?, ?B/s]"
      ]
     },
     "metadata": {},
     "output_type": "display_data"
    },
    {
     "data": {
      "application/vnd.jupyter.widget-view+json": {
       "model_id": "6a6eeaebe18d4f5aba0bd735fdcd2ddb",
       "version_major": 2,
       "version_minor": 0
      },
      "text/plain": [
       "sentence_bert_config.json:   0%|          | 0.00/53.0 [00:00<?, ?B/s]"
      ]
     },
     "metadata": {},
     "output_type": "display_data"
    },
    {
     "name": "stderr",
     "output_type": "stream",
     "text": [
      "c:\\Users\\arthu\\AppData\\Local\\Programs\\Python\\Python39\\lib\\site-packages\\huggingface_hub\\file_download.py:1132: FutureWarning: `resume_download` is deprecated and will be removed in version 1.0.0. Downloads always resume when possible. If you want to force a new download, use `force_download=True`.\n",
      "  warnings.warn(\n"
     ]
    },
    {
     "data": {
      "application/vnd.jupyter.widget-view+json": {
       "model_id": "db50170356154b02bf45dd06f610f934",
       "version_major": 2,
       "version_minor": 0
      },
      "text/plain": [
       "config.json:   0%|          | 0.00/612 [00:00<?, ?B/s]"
      ]
     },
     "metadata": {},
     "output_type": "display_data"
    },
    {
     "data": {
      "application/vnd.jupyter.widget-view+json": {
       "model_id": "5d3765bdf0f549248fe58973ee4977da",
       "version_major": 2,
       "version_minor": 0
      },
      "text/plain": [
       "model.safetensors:   0%|          | 0.00/90.9M [00:00<?, ?B/s]"
      ]
     },
     "metadata": {},
     "output_type": "display_data"
    },
    {
     "data": {
      "application/vnd.jupyter.widget-view+json": {
       "model_id": "f6716349d4de4bb586d2e0ae9717c53a",
       "version_major": 2,
       "version_minor": 0
      },
      "text/plain": [
       "tokenizer_config.json:   0%|          | 0.00/350 [00:00<?, ?B/s]"
      ]
     },
     "metadata": {},
     "output_type": "display_data"
    },
    {
     "data": {
      "application/vnd.jupyter.widget-view+json": {
       "model_id": "c286c52e1b9f4a9aa9cae0850da51b21",
       "version_major": 2,
       "version_minor": 0
      },
      "text/plain": [
       "vocab.txt:   0%|          | 0.00/232k [00:00<?, ?B/s]"
      ]
     },
     "metadata": {},
     "output_type": "display_data"
    },
    {
     "data": {
      "application/vnd.jupyter.widget-view+json": {
       "model_id": "08224f6c9a4d4250a1d2cde1c8c8a30c",
       "version_major": 2,
       "version_minor": 0
      },
      "text/plain": [
       "tokenizer.json:   0%|          | 0.00/466k [00:00<?, ?B/s]"
      ]
     },
     "metadata": {},
     "output_type": "display_data"
    },
    {
     "data": {
      "application/vnd.jupyter.widget-view+json": {
       "model_id": "1bbcc5145d7146738ac25116bde8012a",
       "version_major": 2,
       "version_minor": 0
      },
      "text/plain": [
       "special_tokens_map.json:   0%|          | 0.00/112 [00:00<?, ?B/s]"
      ]
     },
     "metadata": {},
     "output_type": "display_data"
    },
    {
     "data": {
      "application/vnd.jupyter.widget-view+json": {
       "model_id": "648af610a8c64fc7bb68ac13d306a72c",
       "version_major": 2,
       "version_minor": 0
      },
      "text/plain": [
       "1_Pooling/config.json:   0%|          | 0.00/190 [00:00<?, ?B/s]"
      ]
     },
     "metadata": {},
     "output_type": "display_data"
    }
   ],
   "source": [
    "# Define the path to the pre-trained model you want to use\n",
    "modelPath = \"sentence-transformers/all-MiniLM-l6-v2\"\n",
    "\n",
    "# Create a dictionary with model configuration options, specifying to use the CPU for computations\n",
    "model_kwargs = {'device':'cpu'}\n",
    "\n",
    "# Create a dictionary with encoding options, specifically setting 'normalize_embeddings' to False\n",
    "encode_kwargs = {'normalize_embeddings': False}\n",
    "\n",
    "# Initialize an instance of HuggingFaceEmbeddings with the specified parameters\n",
    "embeddings = HuggingFaceEmbeddings(\n",
    "    model_name=modelPath,     # Provide the pre-trained model's path\n",
    "    model_kwargs=model_kwargs, # Pass the model configuration options\n",
    "    encode_kwargs=encode_kwargs # Pass the encoding options\n",
    ")"
   ]
  },
  {
   "cell_type": "code",
   "execution_count": 25,
   "metadata": {},
   "outputs": [
    {
     "data": {
      "text/plain": [
       "[-0.06041721999645233,\n",
       " -0.057492200285196304,\n",
       " -0.028663907200098038,\n",
       " -0.003117320127785206,\n",
       " -0.018313992768526077,\n",
       " 0.09196006506681442,\n",
       " 0.030595237389206886,\n",
       " -0.04750973358750343,\n",
       " 0.008088894188404083,\n",
       " -0.08457435667514801,\n",
       " -0.09845414757728577,\n",
       " 0.001594462781213224,\n",
       " 0.013694314286112785,\n",
       " -0.014953358098864555,\n",
       " -0.12278381735086441,\n",
       " 0.024595320224761963,\n",
       " 0.030579328536987305,\n",
       " -0.049063537269830704,\n",
       " -0.015709377825260162,\n",
       " -0.04961153492331505,\n",
       " 0.04865964502096176,\n",
       " 0.010904169641435146,\n",
       " -0.053949736058712006,\n",
       " 0.01784193329513073,\n",
       " -0.003001793287694454,\n",
       " 0.11723509430885315,\n",
       " -0.03335120901465416,\n",
       " -0.04590585082769394,\n",
       " -0.03861362859606743,\n",
       " 0.016017120331525803,\n",
       " 0.04525875672698021,\n",
       " -0.02180538699030876,\n",
       " 0.010311756283044815,\n",
       " 0.008703208528459072,\n",
       " 0.04830273240804672,\n",
       " 0.06430995464324951,\n",
       " -0.06577448546886444,\n",
       " -0.026444779708981514,\n",
       " -0.04999789595603943,\n",
       " -0.015338215976953506,\n",
       " 0.05403302609920502,\n",
       " -0.012027174234390259,\n",
       " 0.035131122916936874,\n",
       " 0.02377653494477272,\n",
       " 0.08310450613498688,\n",
       " 0.010606372728943825,\n",
       " -0.020944247022271156,\n",
       " -0.08716916292905807,\n",
       " -0.05852815508842468,\n",
       " -0.01811296120285988,\n",
       " -0.028419705107808113,\n",
       " 0.021296804770827293,\n",
       " 0.0003573312424123287,\n",
       " 0.09882479161024094,\n",
       " 0.023052550852298737,\n",
       " 0.05639910697937012,\n",
       " -0.021103469654917717,\n",
       " 0.069236621260643,\n",
       " -0.10103753209114075,\n",
       " -0.02395089715719223,\n",
       " 0.012708712369203568,\n",
       " -0.06531228125095367,\n",
       " 0.011662399396300316,\n",
       " 0.024962686002254486,\n",
       " 0.06493167579174042,\n",
       " 0.04662346467375755,\n",
       " -0.02826821617782116,\n",
       " 0.049511902034282684,\n",
       " 0.06661084294319153,\n",
       " -0.0801941379904747,\n",
       " 0.006729793269187212,\n",
       " 0.03905210644006729,\n",
       " 0.04904710873961449,\n",
       " -0.07742714136838913,\n",
       " -0.007224926259368658,\n",
       " -0.037432391196489334,\n",
       " 0.08421528339385986,\n",
       " 0.04234445095062256,\n",
       " 0.0670514702796936,\n",
       " -0.006778808310627937,\n",
       " 0.012516512535512447,\n",
       " 0.05033768713474274,\n",
       " 0.039142683148384094,\n",
       " -0.06049317121505737,\n",
       " 0.024867083877325058,\n",
       " 0.02594841457903385,\n",
       " -0.020489798858761787,\n",
       " -0.018966378644108772,\n",
       " -0.01593276672065258,\n",
       " 0.02046298235654831,\n",
       " -0.024340005591511726,\n",
       " -0.0743531808257103,\n",
       " -0.01731254905462265,\n",
       " -0.023695597425103188,\n",
       " 0.002447819570079446,\n",
       " 0.011016826145350933,\n",
       " 0.04375539347529411,\n",
       " -0.01557659450918436,\n",
       " 0.0007474150042980909,\n",
       " 0.028076477348804474,\n",
       " -0.005308844614773989,\n",
       " -0.007897520437836647,\n",
       " 0.03811820596456528,\n",
       " -0.017675645649433136,\n",
       " 0.04197851940989494,\n",
       " -0.018574809655547142,\n",
       " 0.04088359698653221,\n",
       " 0.061261143535375595,\n",
       " 0.010750873014330864,\n",
       " -0.08814500272274017,\n",
       " -0.06913380324840546,\n",
       " -0.009597250260412693,\n",
       " 0.00765208201482892,\n",
       " 0.036633361130952835,\n",
       " 0.06533145159482956,\n",
       " -0.10859322547912598,\n",
       " -0.06715331971645355,\n",
       " -0.0361311100423336,\n",
       " 0.01853196509182453,\n",
       " 0.08401254564523697,\n",
       " -0.03372772037982941,\n",
       " -0.08559179306030273,\n",
       " -0.06073965132236481,\n",
       " -0.07381005585193634,\n",
       " 0.012025278061628342,\n",
       " 0.00015455333050340414,\n",
       " -0.0994117334485054,\n",
       " 3.6698224203463996e-34,\n",
       " -0.03673576936125755,\n",
       " -0.05365319177508354,\n",
       " -0.05165589973330498,\n",
       " -0.06609109044075012,\n",
       " 0.03349359333515167,\n",
       " 0.01177685521543026,\n",
       " 0.025833874940872192,\n",
       " -0.019120236858725548,\n",
       " -0.020752979442477226,\n",
       " -0.0037276679649949074,\n",
       " -0.06439432501792908,\n",
       " 0.031557224690914154,\n",
       " 0.021488916128873825,\n",
       " 0.1475069373846054,\n",
       " 0.023533895611763,\n",
       " -0.06183147057890892,\n",
       " -0.02190372347831726,\n",
       " 0.056258779019117355,\n",
       " 0.05599956214427948,\n",
       " -0.09962239861488342,\n",
       " 0.07300935685634613,\n",
       " 0.08981958776712418,\n",
       " 0.026846544817090034,\n",
       " -0.05188467353582382,\n",
       " -0.01213169377297163,\n",
       " -0.08986271917819977,\n",
       " -0.02692963182926178,\n",
       " -0.053269948810338974,\n",
       " -0.08198459446430206,\n",
       " 0.0350363589823246,\n",
       " -0.054933369159698486,\n",
       " 0.030520053580403328,\n",
       " -0.0012013608356937766,\n",
       " -0.011711361818015575,\n",
       " 0.022860603407025337,\n",
       " -0.07991766929626465,\n",
       " 0.08186254650354385,\n",
       " -0.015626102685928345,\n",
       " 0.053421176970005035,\n",
       " -0.025402741506695747,\n",
       " -0.010262046940624714,\n",
       " -0.02100195921957493,\n",
       " -0.0813516303896904,\n",
       " 0.05095507949590683,\n",
       " -0.028757629916071892,\n",
       " -0.07180798798799515,\n",
       " 0.005426623392850161,\n",
       " -0.023790843784809113,\n",
       " -0.04415750876069069,\n",
       " -0.05889427661895752,\n",
       " -0.0049932789988815784,\n",
       " -0.07356904447078705,\n",
       " 0.006997349672019482,\n",
       " -0.0694945827126503,\n",
       " 0.030858594924211502,\n",
       " -0.03298681229352951,\n",
       " -0.022208569571375847,\n",
       " 0.007597903721034527,\n",
       " 0.016357015818357468,\n",
       " 0.069581538438797,\n",
       " -0.016672194004058838,\n",
       " 0.02240336686372757,\n",
       " -0.029237542301416397,\n",
       " -0.04167564585804939,\n",
       " 0.04171653091907501,\n",
       " 0.06054842844605446,\n",
       " -0.04320620000362396,\n",
       " -0.006169287953525782,\n",
       " 0.12373831123113632,\n",
       " -0.0014710098039358854,\n",
       " 0.004226497374475002,\n",
       " 0.06341516226530075,\n",
       " -0.012819680385291576,\n",
       " -0.013498377054929733,\n",
       " 0.057148437947034836,\n",
       " 0.036472998559474945,\n",
       " 0.003982461057603359,\n",
       " -0.04851551353931427,\n",
       " -0.10477568954229355,\n",
       " 0.11386065930128098,\n",
       " -0.026311421766877174,\n",
       " 0.010456642135977745,\n",
       " -0.07489968091249466,\n",
       " 0.08202654123306274,\n",
       " -0.03193730115890503,\n",
       " 0.03652280569076538,\n",
       " 0.021839957684278488,\n",
       " -0.05680907890200615,\n",
       " -0.025618901476264,\n",
       " -0.026813548058271408,\n",
       " -0.03577474132180214,\n",
       " -0.015054276213049889,\n",
       " 0.05461985990405083,\n",
       " -0.046233613044023514,\n",
       " -0.02689053677022457,\n",
       " -1.785978342043219e-33,\n",
       " 0.07632949203252792,\n",
       " 0.11124572157859802,\n",
       " -0.07003714144229889,\n",
       " -0.010682286694645882,\n",
       " 0.04064323008060455,\n",
       " 0.00537441112101078,\n",
       " 0.010935986414551735,\n",
       " 0.021113960072398186,\n",
       " 0.01615738309919834,\n",
       " -0.014439010061323643,\n",
       " -0.056054383516311646,\n",
       " 0.0407417006790638,\n",
       " 0.06341146677732468,\n",
       " 0.04260833561420441,\n",
       " -0.0502072274684906,\n",
       " -0.025576628744602203,\n",
       " -0.03241456300020218,\n",
       " -0.13057969510555267,\n",
       " 0.023372240364551544,\n",
       " 0.0008262268966063857,\n",
       " 0.0006163837970234454,\n",
       " 0.024826301261782646,\n",
       " -0.036272209137678146,\n",
       " 0.03582368791103363,\n",
       " -0.04213941469788551,\n",
       " 0.022098809480667114,\n",
       " -0.04599864035844803,\n",
       " -0.0032903028186410666,\n",
       " 0.039954621344804764,\n",
       " 0.006074517499655485,\n",
       " -0.10099554061889648,\n",
       " -0.0766974687576294,\n",
       " -0.020559366792440414,\n",
       " 0.05771031975746155,\n",
       " -0.002428903942927718,\n",
       " 0.12661117315292358,\n",
       " 0.0841314047574997,\n",
       " -0.08821999281644821,\n",
       " -0.03881889581680298,\n",
       " -0.01875782199203968,\n",
       " 0.11373002082109451,\n",
       " 0.0020110018085688353,\n",
       " 0.01786358281970024,\n",
       " 0.026302682235836983,\n",
       " 0.03631603717803955,\n",
       " 0.002445672871544957,\n",
       " -0.052381210029125214,\n",
       " 0.09717079252004623,\n",
       " -0.060595761984586716,\n",
       " 0.017872653901576996,\n",
       " -0.015623688697814941,\n",
       " -0.01657298393547535,\n",
       " -0.06807012856006622,\n",
       " 0.028579574078321457,\n",
       " -0.003284689737483859,\n",
       " -0.013681819662451744,\n",
       " -0.004644864704459906,\n",
       " 0.0044684261083602905,\n",
       " 0.02493971213698387,\n",
       " 0.014197682961821556,\n",
       " 0.021930765360593796,\n",
       " -0.07672654092311859,\n",
       " -0.0386819913983345,\n",
       " 0.013523696921765804,\n",
       " 0.012584548443555832,\n",
       " -0.0006217178306542337,\n",
       " 0.016069453209638596,\n",
       " 0.0013516427716240287,\n",
       " 0.04992033168673515,\n",
       " -0.03598269075155258,\n",
       " 0.09091170132160187,\n",
       " 0.008512388914823532,\n",
       " 0.0786997377872467,\n",
       " 0.04910287633538246,\n",
       " 0.026218989863991737,\n",
       " -0.06237310543656349,\n",
       " -0.08028077334165573,\n",
       " -0.10032302886247635,\n",
       " -0.00963397603482008,\n",
       " 0.0038942741230130196,\n",
       " -0.039237454533576965,\n",
       " 0.034338049590587616,\n",
       " 0.031515855342149734,\n",
       " 0.018660511821508408,\n",
       " 0.13014082610607147,\n",
       " 0.09163589030504227,\n",
       " 0.020938141271471977,\n",
       " -0.028251761570572853,\n",
       " 0.07677656412124634,\n",
       " -0.027139637619256973,\n",
       " 0.007502117659896612,\n",
       " 0.021259039640426636,\n",
       " -0.08864445984363556,\n",
       " 0.07472968101501465,\n",
       " 0.00365375610999763,\n",
       " -4.509109174932746e-08,\n",
       " 0.012067662551999092,\n",
       " -0.04952331632375717,\n",
       " 0.03958990052342415,\n",
       " -0.020687023177742958,\n",
       " 0.0329691618680954,\n",
       " -0.07675429433584213,\n",
       " 0.11257557570934296,\n",
       " -0.016414742916822433,\n",
       " 0.037187106907367706,\n",
       " -0.024822425097227097,\n",
       " 0.08198308199644089,\n",
       " -0.06416815519332886,\n",
       " -0.07355570793151855,\n",
       " -0.09421467036008835,\n",
       " 0.030606979504227638,\n",
       " 0.04654090851545334,\n",
       " 0.0453740730881691,\n",
       " 0.032940033823251724,\n",
       " -0.016364464536309242,\n",
       " -0.0876060500741005,\n",
       " 0.09410474449396133,\n",
       " -0.025603104382753372,\n",
       " -0.04362822324037552,\n",
       " 0.06131705269217491,\n",
       " 0.05355281010270119,\n",
       " -0.07636469602584839,\n",
       " -0.04203161969780922,\n",
       " 0.029295479878783226,\n",
       " -0.06242159381508827,\n",
       " -0.017032543197274208,\n",
       " 0.019242020323872566,\n",
       " 0.0044412207789719105,\n",
       " 0.09406770765781403,\n",
       " 0.05489891394972801,\n",
       " 0.059589795768260956,\n",
       " 0.03987537696957588,\n",
       " 0.026924194768071175,\n",
       " -0.013588051311671734,\n",
       " -0.0025781835429370403,\n",
       " -0.05511414632201195,\n",
       " -0.06442830711603165,\n",
       " 0.0112236849963665,\n",
       " 0.0014422065578401089,\n",
       " 0.01799629256129265,\n",
       " 0.028615014627575874,\n",
       " 0.04041804000735283,\n",
       " 0.05424443632364273,\n",
       " -0.07481160014867783,\n",
       " 0.022077618166804314,\n",
       " -0.0456649474799633,\n",
       " 0.027848735451698303,\n",
       " 0.00144224613904953,\n",
       " 0.008893732912838459,\n",
       " 0.08617690950632095,\n",
       " -0.007234516553580761,\n",
       " -0.013363492675125599,\n",
       " -0.0184616781771183,\n",
       " -0.03936188295483589,\n",
       " 0.002623829524964094,\n",
       " 0.07436118274927139,\n",
       " -0.036429256200790405,\n",
       " 0.157755509018898,\n",
       " 0.047348227351903915,\n",
       " -0.05924269184470177]"
      ]
     },
     "execution_count": 25,
     "metadata": {},
     "output_type": "execute_result"
    }
   ],
   "source": [
    "query_result = embeddings.embed_query(data)\n",
    "query_result"
   ]
  },
  {
   "cell_type": "code",
   "execution_count": 26,
   "metadata": {},
   "outputs": [
    {
     "ename": "AttributeError",
     "evalue": "'str' object has no attribute 'page_content'",
     "output_type": "error",
     "traceback": [
      "\u001b[1;31m---------------------------------------------------------------------------\u001b[0m",
      "\u001b[1;31mAttributeError\u001b[0m                            Traceback (most recent call last)",
      "Cell \u001b[1;32mIn[26], line 1\u001b[0m\n\u001b[1;32m----> 1\u001b[0m db \u001b[38;5;241m=\u001b[39m \u001b[43mFAISS\u001b[49m\u001b[38;5;241;43m.\u001b[39;49m\u001b[43mfrom_documents\u001b[49m\u001b[43m(\u001b[49m\u001b[43mdata\u001b[49m\u001b[43m,\u001b[49m\u001b[43m \u001b[49m\u001b[43membeddings\u001b[49m\u001b[43m)\u001b[49m\n",
      "File \u001b[1;32mc:\\Users\\arthu\\AppData\\Local\\Programs\\Python\\Python39\\lib\\site-packages\\langchain_core\\vectorstores.py:633\u001b[0m, in \u001b[0;36mVectorStore.from_documents\u001b[1;34m(cls, documents, embedding, **kwargs)\u001b[0m\n\u001b[0;32m    620\u001b[0m \u001b[38;5;129m@classmethod\u001b[39m\n\u001b[0;32m    621\u001b[0m \u001b[38;5;28;01mdef\u001b[39;00m \u001b[38;5;21mfrom_documents\u001b[39m(\n\u001b[0;32m    622\u001b[0m     \u001b[38;5;28mcls\u001b[39m: Type[VST],\n\u001b[1;32m   (...)\u001b[0m\n\u001b[0;32m    625\u001b[0m     \u001b[38;5;241m*\u001b[39m\u001b[38;5;241m*\u001b[39mkwargs: Any,\n\u001b[0;32m    626\u001b[0m ) \u001b[38;5;241m-\u001b[39m\u001b[38;5;241m>\u001b[39m VST:\n\u001b[0;32m    627\u001b[0m \u001b[38;5;250m    \u001b[39m\u001b[38;5;124;03m\"\"\"Return VectorStore initialized from documents and embeddings.\u001b[39;00m\n\u001b[0;32m    628\u001b[0m \n\u001b[0;32m    629\u001b[0m \u001b[38;5;124;03m    Args:\u001b[39;00m\n\u001b[0;32m    630\u001b[0m \u001b[38;5;124;03m        documents: List of Documents to add to the vectorstore.\u001b[39;00m\n\u001b[0;32m    631\u001b[0m \u001b[38;5;124;03m        embedding: Embedding function to use.\u001b[39;00m\n\u001b[0;32m    632\u001b[0m \u001b[38;5;124;03m    \"\"\"\u001b[39;00m\n\u001b[1;32m--> 633\u001b[0m     texts \u001b[38;5;241m=\u001b[39m [d\u001b[38;5;241m.\u001b[39mpage_content \u001b[38;5;28;01mfor\u001b[39;00m d \u001b[38;5;129;01min\u001b[39;00m documents]\n\u001b[0;32m    634\u001b[0m     metadatas \u001b[38;5;241m=\u001b[39m [d\u001b[38;5;241m.\u001b[39mmetadata \u001b[38;5;28;01mfor\u001b[39;00m d \u001b[38;5;129;01min\u001b[39;00m documents]\n\u001b[0;32m    635\u001b[0m     \u001b[38;5;28;01mreturn\u001b[39;00m \u001b[38;5;28mcls\u001b[39m\u001b[38;5;241m.\u001b[39mfrom_texts(texts, embedding, metadatas\u001b[38;5;241m=\u001b[39mmetadatas, \u001b[38;5;241m*\u001b[39m\u001b[38;5;241m*\u001b[39mkwargs)\n",
      "File \u001b[1;32mc:\\Users\\arthu\\AppData\\Local\\Programs\\Python\\Python39\\lib\\site-packages\\langchain_core\\vectorstores.py:633\u001b[0m, in \u001b[0;36m<listcomp>\u001b[1;34m(.0)\u001b[0m\n\u001b[0;32m    620\u001b[0m \u001b[38;5;129m@classmethod\u001b[39m\n\u001b[0;32m    621\u001b[0m \u001b[38;5;28;01mdef\u001b[39;00m \u001b[38;5;21mfrom_documents\u001b[39m(\n\u001b[0;32m    622\u001b[0m     \u001b[38;5;28mcls\u001b[39m: Type[VST],\n\u001b[1;32m   (...)\u001b[0m\n\u001b[0;32m    625\u001b[0m     \u001b[38;5;241m*\u001b[39m\u001b[38;5;241m*\u001b[39mkwargs: Any,\n\u001b[0;32m    626\u001b[0m ) \u001b[38;5;241m-\u001b[39m\u001b[38;5;241m>\u001b[39m VST:\n\u001b[0;32m    627\u001b[0m \u001b[38;5;250m    \u001b[39m\u001b[38;5;124;03m\"\"\"Return VectorStore initialized from documents and embeddings.\u001b[39;00m\n\u001b[0;32m    628\u001b[0m \n\u001b[0;32m    629\u001b[0m \u001b[38;5;124;03m    Args:\u001b[39;00m\n\u001b[0;32m    630\u001b[0m \u001b[38;5;124;03m        documents: List of Documents to add to the vectorstore.\u001b[39;00m\n\u001b[0;32m    631\u001b[0m \u001b[38;5;124;03m        embedding: Embedding function to use.\u001b[39;00m\n\u001b[0;32m    632\u001b[0m \u001b[38;5;124;03m    \"\"\"\u001b[39;00m\n\u001b[1;32m--> 633\u001b[0m     texts \u001b[38;5;241m=\u001b[39m [\u001b[43md\u001b[49m\u001b[38;5;241;43m.\u001b[39;49m\u001b[43mpage_content\u001b[49m \u001b[38;5;28;01mfor\u001b[39;00m d \u001b[38;5;129;01min\u001b[39;00m documents]\n\u001b[0;32m    634\u001b[0m     metadatas \u001b[38;5;241m=\u001b[39m [d\u001b[38;5;241m.\u001b[39mmetadata \u001b[38;5;28;01mfor\u001b[39;00m d \u001b[38;5;129;01min\u001b[39;00m documents]\n\u001b[0;32m    635\u001b[0m     \u001b[38;5;28;01mreturn\u001b[39;00m \u001b[38;5;28mcls\u001b[39m\u001b[38;5;241m.\u001b[39mfrom_texts(texts, embedding, metadatas\u001b[38;5;241m=\u001b[39mmetadatas, \u001b[38;5;241m*\u001b[39m\u001b[38;5;241m*\u001b[39mkwargs)\n",
      "\u001b[1;31mAttributeError\u001b[0m: 'str' object has no attribute 'page_content'"
     ]
    }
   ],
   "source": [
    "db = FAISS.from_documents(data, embeddings)"
   ]
  }
 ],
 "metadata": {
  "kernelspec": {
   "display_name": "Python 3",
   "language": "python",
   "name": "python3"
  },
  "language_info": {
   "codemirror_mode": {
    "name": "ipython",
    "version": 3
   },
   "file_extension": ".py",
   "mimetype": "text/x-python",
   "name": "python",
   "nbconvert_exporter": "python",
   "pygments_lexer": "ipython3",
   "version": "3.9.1"
  }
 },
 "nbformat": 4,
 "nbformat_minor": 2
}
